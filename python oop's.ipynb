{
 "cells": [
  {
   "cell_type": "code",
   "execution_count": 7,
   "id": "7684e09f",
   "metadata": {},
   "outputs": [
    {
     "name": "stdout",
     "output_type": "stream",
     "text": [
      "akansha\n",
      "24\n",
      "Hello I'm akansha and my age is 24\n"
     ]
    }
   ],
   "source": [
    "class Person:\n",
    "    def __init__(self, name, age):\n",
    "        self.name = name\n",
    "        self.age = age\n",
    "        \n",
    "    def perint_person_data(self):\n",
    "        print(\"Hello I'm {} and my age is {}\".format(self.name, self.age))\n",
    "        \n",
    "        \n",
    "        \n",
    "p1 = Person(\"akansha\", 24)\n",
    "print(p1.name)\n",
    "print(p1.age)\n",
    "p1.perint_person_data()"
   ]
  },
  {
   "cell_type": "markdown",
   "id": "07370f06",
   "metadata": {},
   "source": [
    "# Inheritance in python"
   ]
  },
  {
   "cell_type": "code",
   "execution_count": 16,
   "id": "fb5cdaaa",
   "metadata": {},
   "outputs": [
    {
     "name": "stdout",
     "output_type": "stream",
     "text": [
      "this is function one\n",
      "None\n",
      "this is function two\n",
      "None\n",
      "this is function third\n",
      "None\n",
      "this is function Fourth\n",
      "None\n",
      "this is function one\n",
      "None\n",
      "this is function two\n",
      "None\n"
     ]
    }
   ],
   "source": [
    "class A:\n",
    "    def checkA(self):\n",
    "        print(\"this is function one\")\n",
    "    def checkB(self):\n",
    "        print(\"this is function two\")\n",
    "        \n",
    "class B(A):\n",
    "    def checkC(self):\n",
    "        print(\"this is function third\")\n",
    "    def checkD(self):\n",
    "        print(\"this is function Fourth\")\n",
    "        \n",
    "objA = A()\n",
    "print(objA.checkA())\n",
    "print(objA.checkB())\n",
    "\n",
    "objB = B()\n",
    "print(objB.checkC())\n",
    "print(objB.checkD())\n",
    "print(objB.checkA())\n",
    "print(objB.checkB())\n"
   ]
  },
  {
   "cell_type": "markdown",
   "id": "47e04588",
   "metadata": {},
   "source": [
    "# Polymorphism\n",
    "### Duck Typing: it's a concept of opps where if the method define on object it will run. example writeen below"
   ]
  },
  {
   "cell_type": "code",
   "execution_count": 15,
   "id": "faca1fbf",
   "metadata": {},
   "outputs": [
    {
     "name": "stdout",
     "output_type": "stream",
     "text": [
      "Duck.......\n",
      "None\n"
     ]
    }
   ],
   "source": [
    "class Duck:\n",
    "    def walk(self):\n",
    "        print(\"Duck.......\")\n",
    "\n",
    "class Bear:\n",
    "    def walk(Self):\n",
    "        print(\"Bear.....\")\n",
    "        \n",
    "def printonj(obj):\n",
    "    return obj.walk()\n",
    "\n",
    "D = Duck()\n",
    "print(printonj(D))"
   ]
  },
  {
   "cell_type": "markdown",
   "id": "d36b0d96",
   "metadata": {},
   "source": [
    "## method overloading and method overrriding\n",
    "\n",
    "### Method Overloading : is a concept in which two or more function or method with same name perform the different task in a single class, In python method overloading is not possible but i try to do letsee example.\n",
    "\n",
    "### Method Overriding :  when same method define in different class then only child class method call. \n",
    "\n",
    "### operator overloding: when signle operator perform various task that means its operator overlodin concept. example\n",
    "print(10+20)\n",
    "print(\"hello\"+\"ashu\")\n"
   ]
  },
  {
   "cell_type": "code",
   "execution_count": 20,
   "id": "da0099da",
   "metadata": {},
   "outputs": [
    {
     "name": "stdout",
     "output_type": "stream",
     "text": [
      "69\n"
     ]
    }
   ],
   "source": [
    "# overloading\n",
    "class calc:\n",
    "    def sum(self, a=None, b=None, c= None):\n",
    "        return a+b+c\n",
    "    \n",
    "o = calc()\n",
    "t = o.sum(19,20,30)\n",
    "print(t)"
   ]
  },
  {
   "cell_type": "code",
   "execution_count": 23,
   "id": "44d1d55f",
   "metadata": {},
   "outputs": [
    {
     "name": "stdout",
     "output_type": "stream",
     "text": [
      "200\n",
      "hii this is me\n",
      "None\n"
     ]
    }
   ],
   "source": [
    "# Overriding\n",
    "\n",
    "class A:\n",
    "    def result(self, a, b):\n",
    "        return a+b\n",
    "    \n",
    "    def namedifferent(self):\n",
    "        print(\"hii this is me\")\n",
    "    \n",
    "class B(A):\n",
    "    def result(self, a, b):\n",
    "        return a*b\n",
    "    \n",
    "obj = B()\n",
    "print(obj.result(10, 20))\n",
    "print(obj.namedifferent())"
   ]
  },
  {
   "cell_type": "code",
   "execution_count": 13,
   "id": "eb6ff706",
   "metadata": {},
   "outputs": [
    {
     "name": "stdout",
     "output_type": "stream",
     "text": [
      "200\n"
     ]
    }
   ],
   "source": [
    "def add_decor(func):\n",
    "    def add(a, b):\n",
    "        if a > b:\n",
    "            a, b = b, a\n",
    "        return func(a, b)\n",
    "    return add\n",
    "\n",
    "@add_decor\n",
    "def mul(a, b):\n",
    "    return a*b\n",
    "\n",
    "o = mul(20, 10)\n",
    "print(o)\n",
    "\n"
   ]
  },
  {
   "cell_type": "code",
   "execution_count": 16,
   "id": "1495377e",
   "metadata": {},
   "outputs": [
    {
     "name": "stdout",
     "output_type": "stream",
     "text": [
      "-20\n",
      "None\n"
     ]
    }
   ],
   "source": [
    "def deco(func):\n",
    "    def sub(a, b):\n",
    "        print(a-b)\n",
    "    return sub\n",
    "\n",
    "@deco\n",
    "def add(a, b):\n",
    "    return a+b\n",
    "\n",
    "o = add(30,50)\n",
    "print(o)\n"
   ]
  },
  {
   "cell_type": "code",
   "execution_count": 18,
   "id": "a9744b3f",
   "metadata": {},
   "outputs": [
    {
     "data": {
      "text/plain": [
       "16"
      ]
     },
     "execution_count": 18,
     "metadata": {},
     "output_type": "execute_result"
    }
   ],
   "source": [
    "x = lambda a: a**2 if a > 1 else 1\n",
    "x(4)"
   ]
  },
  {
   "cell_type": "code",
   "execution_count": 20,
   "id": "a002c92d",
   "metadata": {},
   "outputs": [
    {
     "name": "stdout",
     "output_type": "stream",
     "text": [
      "[10, 15, 20, 34, 40]\n"
     ]
    }
   ],
   "source": [
    " l = [10,34,20,15,40]\n",
    "for i in range(0, len(l)):\n",
    "    for j in range(i+1, len(l)):\n",
    "        if l[i] > l[j]:\n",
    "            l[i], l[j] = l[j], l[i]\n",
    "\n",
    "            \n",
    "print(l)\n",
    "            "
   ]
  },
  {
   "cell_type": "code",
   "execution_count": 21,
   "id": "0701faf0",
   "metadata": {},
   "outputs": [],
   "source": [
    "def fab(n):\n",
    "    if n ==0:\n",
    "        print(\"The factorial of number is 1\")\n",
    "    else:\n",
    "        return n*fab(n-1)"
   ]
  },
  {
   "cell_type": "code",
   "execution_count": 1,
   "id": "40429618",
   "metadata": {},
   "outputs": [
    {
     "name": "stdout",
     "output_type": "stream",
     "text": [
      "<map object at 0x00000266057A4278>\n",
      "[4, 16, 36]\n"
     ]
    }
   ],
   "source": [
    "x = map(lambda a:a*a, [2,4,6])\n",
    "print(x)\n",
    "print(list(x))"
   ]
  },
  {
   "cell_type": "code",
   "execution_count": 2,
   "id": "bccc3ade",
   "metadata": {},
   "outputs": [
    {
     "name": "stdout",
     "output_type": "stream",
     "text": [
      "[2, 4, 6, 8]\n"
     ]
    }
   ],
   "source": [
    "l = [2,3,4,5,6,7,8,9]\n",
    "x = list(filter(lambda a: a%2==0, l))\n",
    "print(x)"
   ]
  },
  {
   "cell_type": "code",
   "execution_count": 1,
   "id": "0190cf21",
   "metadata": {},
   "outputs": [
    {
     "name": "stdout",
     "output_type": "stream",
     "text": [
      "0\n"
     ]
    }
   ],
   "source": [
    "s = 0\n",
    "i = 10\n",
    "while i < 1:\n",
    "    s = s+1\n",
    "    s =s*2\n",
    "    i -= 1\n",
    "    \n",
    "print(s)"
   ]
  },
  {
   "cell_type": "code",
   "execution_count": null,
   "id": "fc9b61f5",
   "metadata": {},
   "outputs": [],
   "source": []
  }
 ],
 "metadata": {
  "kernelspec": {
   "display_name": "Python 3 (ipykernel)",
   "language": "python",
   "name": "python3"
  },
  "language_info": {
   "codemirror_mode": {
    "name": "ipython",
    "version": 3
   },
   "file_extension": ".py",
   "mimetype": "text/x-python",
   "name": "python",
   "nbconvert_exporter": "python",
   "pygments_lexer": "ipython3",
   "version": "3.7.0"
  }
 },
 "nbformat": 4,
 "nbformat_minor": 5
}
