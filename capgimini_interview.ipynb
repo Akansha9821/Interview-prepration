{
 "cells": [
  {
   "cell_type": "code",
   "execution_count": 5,
   "id": "2b65353c",
   "metadata": {},
   "outputs": [
    {
     "data": {
      "text/plain": [
       "9"
      ]
     },
     "execution_count": 5,
     "metadata": {},
     "output_type": "execute_result"
    }
   ],
   "source": [
    "# Genrate random number\n",
    "import random\n",
    "\n",
    "n = random.randint(1,10)\n",
    "n\n"
   ]
  },
  {
   "cell_type": "code",
   "execution_count": 6,
   "id": "c1ca0b74",
   "metadata": {},
   "outputs": [
    {
     "name": "stdout",
     "output_type": "stream",
     "text": [
      "Enter The number: 13\n",
      "13is not a even number\n"
     ]
    }
   ],
   "source": [
    "# Check odd or even number in python\n",
    "num = int(input(\"Enter The number: \"))\n",
    "if num%2 == 0:\n",
    "    print(\"{}is a even number\".format(num))\n",
    "else:\n",
    "     print(\"{}is not a even number\".format(num))"
   ]
  },
  {
   "cell_type": "code",
   "execution_count": 9,
   "id": "e2ade876",
   "metadata": {},
   "outputs": [
    {
     "name": "stdout",
     "output_type": "stream",
     "text": [
      "Enter the year : 2024\n",
      "Enter the integer digit\n",
      "2024 year is a leap year\n"
     ]
    }
   ],
   "source": [
    "# check a year is  a leap year or not\n",
    "def checkleap(year):\n",
    "    if type(year) != str:\n",
    "        print(\"Enter the integer digit\")\n",
    "    \n",
    "    if (year%400 == 0) or (year%100 != 0) and (year%4==0):\n",
    "        print(\"{} year is a leap year\".format(year))\n",
    "    else:\n",
    "        print(\"year is not a leap year\")\n",
    "        \n",
    "        \n",
    "year = int(input(\"Enter the year : \"))\n",
    "\n",
    "checkleap(year)"
   ]
  },
  {
   "cell_type": "code",
   "execution_count": 16,
   "id": "f738ba78",
   "metadata": {},
   "outputs": [
    {
     "name": "stdout",
     "output_type": "stream",
     "text": [
      "enter the number2\n",
      "prime number of 2 is 1\n"
     ]
    }
   ],
   "source": [
    "#  program for checking prime number\n",
    "def checkprime(num):\n",
    "    if num == 1:\n",
    "        print(\"Prime number of 1 is 0\")\n",
    "    if num ==2:\n",
    "        print(\"prime number of 2 is 1\")\n",
    "    if num < 0:\n",
    "        print(\"please enter positive value\")\n",
    "        \n",
    "    for i in range(2, int(num/2)+1):\n",
    "        if num%i == 0:\n",
    "            print(\"Number is a prime number\")\n",
    "            break\n",
    "        else:\n",
    "            print(\"Number is not a prime number\")\n",
    "            \n",
    "\n",
    "num = int(input(\"enter the number\"))\n",
    "checkprime(num)"
   ]
  },
  {
   "cell_type": "code",
   "execution_count": 19,
   "id": "cc498cc6",
   "metadata": {},
   "outputs": [
    {
     "name": "stdout",
     "output_type": "stream",
     "text": [
      "2\n",
      "10\n",
      "list of non prime number is 2\n",
      "list of non prime number is 2\n",
      "list of non prime number is 3\n",
      "list of non prime number is 4\n",
      "list of non prime number is 2\n",
      "list of non prime number is 3\n",
      "list of non prime number is 4\n",
      "list of non prime number is 5\n",
      "list of non prime number is 6\n",
      "list of non prime number is 2\n"
     ]
    }
   ],
   "source": [
    "# check prime number for given range\n",
    "def checkprime(num1, num2):\n",
    "    for i in range(num1, num2+1):\n",
    "        if i > 1:\n",
    "            for j in range(2,i):\n",
    "                if i%j ==0:\n",
    "#                     print(\"list of prime number is\", j)\n",
    "                    break\n",
    "                else:\n",
    "                    print(\"list of non prime number is\", j)\n",
    "                    \n",
    "                    \n",
    "\n",
    "n = int(input())\n",
    "n1 = int(input())\n",
    "\n",
    "checkprime(n, n1)\n",
    "            \n",
    "            "
   ]
  },
  {
   "cell_type": "code",
   "execution_count": 2,
   "id": "06166fa5",
   "metadata": {},
   "outputs": [
    {
     "name": "stdout",
     "output_type": "stream",
     "text": [
      "3\n",
      "factorial of 3 is 6\n"
     ]
    }
   ],
   "source": [
    "# factorial program without recurssion\n",
    "def fact(num):\n",
    "    res = 1\n",
    "    if num < 1:\n",
    "        print(\"please enter the positive number\")\n",
    "    \n",
    "    if num ==0:\n",
    "        print(\"factorial of 0 is 1\")\n",
    "    else:\n",
    "        \n",
    "        for i in range(1, num+1):\n",
    "            res = res*i\n",
    "        print(\"factorial of {} is {}\".format(num, res))\n",
    "    \n",
    "    \n",
    "num = int(input())\n",
    "\n",
    "fact(num)"
   ]
  },
  {
   "cell_type": "code",
   "execution_count": 4,
   "id": "bc79d483",
   "metadata": {},
   "outputs": [
    {
     "data": {
      "text/plain": [
       "6"
      ]
     },
     "execution_count": 4,
     "metadata": {},
     "output_type": "execute_result"
    }
   ],
   "source": [
    "# factorial using recurssion\n",
    "def fact(n):\n",
    "    res = 1 if (n == 1) or (n==0) else n*fact(n-1)\n",
    "    return res\n",
    "\n",
    "fact(3)"
   ]
  },
  {
   "cell_type": "code",
   "execution_count": 1,
   "id": "75f6cd04",
   "metadata": {},
   "outputs": [
    {
     "name": "stdout",
     "output_type": "stream",
     "text": [
      "3\n",
      "0\n",
      "1\n",
      "1\n"
     ]
    }
   ],
   "source": [
    "# progrm for fibbonacci series using recurssion\n",
    "def fibb(n):\n",
    "    if n <= 1:\n",
    "        return n\n",
    "    else:\n",
    "        return fibb(n-1)+fibb(n-2)\n",
    "    \n",
    "    \n",
    "    \n",
    "num = int(input())\n",
    "\n",
    "if num <= 0:\n",
    "    print(\"please enter a valid number\")\n",
    "else:\n",
    "    for i in range(num):\n",
    "        print(fibb(i))\n",
    "    "
   ]
  },
  {
   "cell_type": "code",
   "execution_count": 11,
   "id": "7f925b7e",
   "metadata": {},
   "outputs": [
    {
     "name": "stdout",
     "output_type": "stream",
     "text": [
      "armstrong number\n"
     ]
    }
   ],
   "source": [
    "#  armstrong number program\n",
    "\n",
    "def armstrong(num):\n",
    "    res = 0\n",
    "    temp = num\n",
    "    l = len(str(num))\n",
    "    \n",
    "    while temp != 0:\n",
    "        v = temp%10\n",
    "        res += v**l\n",
    "        temp //= 10      \n",
    "    if num == res:\n",
    "        print(\"armstrong number\")\n",
    "            \n",
    "armstrong(153)"
   ]
  },
  {
   "cell_type": "code",
   "execution_count": 12,
   "id": "f359566f",
   "metadata": {},
   "outputs": [],
   "source": [
    "# python decorator\n",
    "def dec1(func):\n",
    "    def inner():\n",
    "        print(\"What is You're name\")\n",
    "        func()\n",
    "    return inner\n",
    "\n",
    "@dec1\n",
    "def checkdec():\n",
    "    print(\"my name is akansha rana\")"
   ]
  },
  {
   "cell_type": "code",
   "execution_count": 13,
   "id": "91cde83f",
   "metadata": {},
   "outputs": [
    {
     "name": "stdout",
     "output_type": "stream",
     "text": [
      "What is You're name\n",
      "my name is akansha rana\n"
     ]
    }
   ],
   "source": [
    "checkdec()"
   ]
  },
  {
   "cell_type": "code",
   "execution_count": 1,
   "id": "834aa8d1",
   "metadata": {},
   "outputs": [
    {
     "data": {
      "text/plain": [
       "10"
      ]
     },
     "execution_count": 1,
     "metadata": {},
     "output_type": "execute_result"
    }
   ],
   "source": [
    "def dec1(func):\n",
    "    def inner(a, b):\n",
    "        if a > b:\n",
    "            a, b = b, a\n",
    "            return func(a, b)\n",
    "            \n",
    "    return inner\n",
    "\n",
    "@dec1\n",
    "def check_number(a, b):\n",
    "    return b%a\n",
    "    \n",
    "    \n",
    "check_number(30, 20)"
   ]
  },
  {
   "cell_type": "code",
   "execution_count": 18,
   "id": "6bdb8b79",
   "metadata": {},
   "outputs": [
    {
     "name": "stdout",
     "output_type": "stream",
     "text": [
      "1\n",
      "2\n",
      "3\n"
     ]
    }
   ],
   "source": [
    "def genrator():\n",
    "    yield 1\n",
    "    yield 2\n",
    "    yield 3\n",
    "    \n",
    "    \n",
    "for i in genrator():\n",
    "    print(i)"
   ]
  },
  {
   "cell_type": "code",
   "execution_count": 19,
   "id": "63edbf30",
   "metadata": {},
   "outputs": [
    {
     "name": "stdout",
     "output_type": "stream",
     "text": [
      "1\n"
     ]
    }
   ],
   "source": [
    "def genrator():\n",
    "    yield 1\n",
    "    yield 2\n",
    "    yield 3\n",
    "    \n",
    "x = genrator()\n",
    "print(next(x))\n",
    "    "
   ]
  },
  {
   "cell_type": "code",
   "execution_count": null,
   "id": "91f1d237",
   "metadata": {},
   "outputs": [],
   "source": []
  }
 ],
 "metadata": {
  "kernelspec": {
   "display_name": "Python 3 (ipykernel)",
   "language": "python",
   "name": "python3"
  },
  "language_info": {
   "codemirror_mode": {
    "name": "ipython",
    "version": 3
   },
   "file_extension": ".py",
   "mimetype": "text/x-python",
   "name": "python",
   "nbconvert_exporter": "python",
   "pygments_lexer": "ipython3",
   "version": "3.7.0"
  }
 },
 "nbformat": 4,
 "nbformat_minor": 5
}
