{
 "cells": [
  {
   "cell_type": "code",
   "execution_count": 12,
   "id": "d561517f",
   "metadata": {},
   "outputs": [],
   "source": [
    "import time\n",
    "import threading"
   ]
  },
  {
   "cell_type": "code",
   "execution_count": 13,
   "id": "7c2b0074",
   "metadata": {},
   "outputs": [
    {
     "name": "stdout",
     "output_type": "stream",
     "text": [
      "4\n",
      "9\n",
      "16\n",
      "25\n",
      "8\n",
      "27\n",
      "64\n",
      "125\n",
      "The Square is :  None\n",
      "The cube of number is : None\n",
      "1.6078577041625977\n"
     ]
    }
   ],
   "source": [
    "def calc_square(num):\n",
    "    for i in num:\n",
    "        time.sleep(0.2)\n",
    "        print(i**2)\n",
    "        \n",
    "def calc_cube(num):\n",
    "    for i in num:\n",
    "        time.sleep(0.2)\n",
    "        print(i**3)\n",
    "        \n",
    "t = time.time()    \n",
    "t1 = calc_square([2,3,4,5])\n",
    "t2 = calc_cube([2,3,4,5])\n",
    "print(\"The Square is : \",t1)\n",
    "print(\"The cube of number is :\", t2)\n",
    "print(time.time()-t)"
   ]
  },
  {
   "cell_type": "code",
   "execution_count": 14,
   "id": "43c4b5a3",
   "metadata": {},
   "outputs": [
    {
     "name": "stdout",
     "output_type": "stream",
     "text": [
      "The Square is :  <Thread(Thread-5, stopped 14704)>\n",
      "The cube of number is : <Thread(Thread-6, stopped 27796)>\n",
      "0.0175628662109375\n"
     ]
    },
    {
     "name": "stderr",
     "output_type": "stream",
     "text": [
      "Exception in thread Thread-6:\n",
      "Traceback (most recent call last):\n",
      "  File \"c:\\program files\\python37\\lib\\threading.py\", line 917, in _bootstrap_inner\n",
      "    self.run()\n",
      "  File \"c:\\program files\\python37\\lib\\threading.py\", line 865, in run\n",
      "    self._target(*self._args, **self._kwargs)\n",
      "TypeError: calc_cube() takes 1 positional argument but 4 were given\n",
      "\n",
      "Exception in thread Thread-5:\n",
      "Traceback (most recent call last):\n",
      "  File \"c:\\program files\\python37\\lib\\threading.py\", line 917, in _bootstrap_inner\n",
      "    self.run()\n",
      "  File \"c:\\program files\\python37\\lib\\threading.py\", line 865, in run\n",
      "    self._target(*self._args, **self._kwargs)\n",
      "TypeError: calc_square() takes 1 positional argument but 4 were given\n",
      "\n"
     ]
    }
   ],
   "source": [
    "# by using threading we are try to reduce the time\n",
    "def calc_square(num):\n",
    "    for i in num:\n",
    "        time.sleep(0.2)\n",
    "        print(i**2)\n",
    "        \n",
    "def calc_cube(num):\n",
    "    for i in num:\n",
    "        time.sleep(0.2)\n",
    "        print(i*i*i)\n",
    "        \n",
    "t = time.time()    \n",
    "array = [2,3,4,5]\n",
    "\n",
    "t1 = threading.Thread(target=calc_square, args=(array))\n",
    "t2 = threading.Thread(target=calc_cube, args=array)\n",
    "\n",
    "t1.start()\n",
    "t2.start()\n",
    "\n",
    "t1.join()\n",
    "t2.join()\n",
    "\n",
    "\n",
    "print(\"The Square is : \",t1)\n",
    "print(\"The cube of number is :\", t2)\n",
    "print(time.time()-t)"
   ]
  },
  {
   "cell_type": "markdown",
   "id": "5d0d6dd6",
   "metadata": {},
   "source": [
    "### Multiprocessing\n"
   ]
  },
  {
   "cell_type": "code",
   "execution_count": 15,
   "id": "7a6924fc",
   "metadata": {},
   "outputs": [],
   "source": [
    "import multiprocessing as mp"
   ]
  },
  {
   "cell_type": "code",
   "execution_count": 17,
   "id": "2063aa1d",
   "metadata": {},
   "outputs": [
    {
     "ename": "TypeError",
     "evalue": "'module' object is not callable",
     "output_type": "error",
     "traceback": [
      "\u001b[1;31m---------------------------------------------------------------------------\u001b[0m",
      "\u001b[1;31mTypeError\u001b[0m                                 Traceback (most recent call last)",
      "\u001b[1;32m~\\AppData\\Local\\Temp\\ipykernel_26400\\996835287.py\u001b[0m in \u001b[0;36m<module>\u001b[1;34m\u001b[0m\n\u001b[0;32m     14\u001b[0m     \u001b[0marr\u001b[0m \u001b[1;33m=\u001b[0m \u001b[1;33m[\u001b[0m\u001b[1;36m2\u001b[0m\u001b[1;33m,\u001b[0m\u001b[1;36m3\u001b[0m\u001b[1;33m,\u001b[0m\u001b[1;36m4\u001b[0m\u001b[1;33m,\u001b[0m\u001b[1;36m5\u001b[0m\u001b[1;33m]\u001b[0m\u001b[1;33m\u001b[0m\u001b[0m\n\u001b[0;32m     15\u001b[0m \u001b[1;33m\u001b[0m\u001b[0m\n\u001b[1;32m---> 16\u001b[1;33m     \u001b[0msqr_obj\u001b[0m \u001b[1;33m=\u001b[0m \u001b[0mmp\u001b[0m\u001b[1;33m.\u001b[0m\u001b[0mprocess\u001b[0m\u001b[1;33m(\u001b[0m\u001b[0mtarget\u001b[0m\u001b[1;33m=\u001b[0m \u001b[0mcalc_squre\u001b[0m\u001b[1;33m,\u001b[0m \u001b[0margs\u001b[0m\u001b[1;33m=\u001b[0m\u001b[1;33m(\u001b[0m\u001b[0marr\u001b[0m\u001b[1;33m,\u001b[0m\u001b[1;33m)\u001b[0m\u001b[1;33m)\u001b[0m\u001b[1;33m\u001b[0m\u001b[0m\n\u001b[0m\u001b[0;32m     17\u001b[0m     \u001b[0mcube_obj\u001b[0m \u001b[1;33m=\u001b[0m \u001b[0mmp\u001b[0m\u001b[1;33m.\u001b[0m\u001b[0mprocess\u001b[0m\u001b[1;33m(\u001b[0m\u001b[0mtarget\u001b[0m\u001b[1;33m=\u001b[0m \u001b[0mcalc_cube\u001b[0m\u001b[1;33m,\u001b[0m \u001b[0margs\u001b[0m\u001b[1;33m=\u001b[0m\u001b[1;33m(\u001b[0m\u001b[0marr\u001b[0m\u001b[1;33m,\u001b[0m\u001b[1;33m)\u001b[0m\u001b[1;33m)\u001b[0m\u001b[1;33m\u001b[0m\u001b[0m\n\u001b[0;32m     18\u001b[0m \u001b[1;33m\u001b[0m\u001b[0m\n",
      "\u001b[1;31mTypeError\u001b[0m: 'module' object is not callable"
     ]
    }
   ],
   "source": [
    "def calc_squre(n):\n",
    "    for i in n:\n",
    "        time.sleep(5)\n",
    "        print(\"The squre of number\", i*i)\n",
    "        \n",
    "        \n",
    "def calc_cube(n):\n",
    "    for i in n:\n",
    "        time.sleep(5)\n",
    "        print(\"The cube of number\", i*i*i)\n",
    "        \n",
    "        \n",
    "if __name__ == \"__main__\":\n",
    "    arr = [2,3,4,5]\n",
    "    \n",
    "    sqr_obj = mp.process(target= calc_squre, args=(arr,))\n",
    "    cube_obj = mp.process(target= calc_cube, args=(arr,))\n",
    "    \n",
    "    sqr_obj.start()\n",
    "    cube_obj.start()\n",
    "    \n",
    "    \n",
    "    cube_obj.join()\n",
    "    sqr_obj.join()\n",
    "        "
   ]
  },
  {
   "cell_type": "code",
   "execution_count": null,
   "id": "8de9687e",
   "metadata": {},
   "outputs": [],
   "source": []
  },
  {
   "cell_type": "code",
   "execution_count": null,
   "id": "0a801583",
   "metadata": {},
   "outputs": [],
   "source": []
  }
 ],
 "metadata": {
  "kernelspec": {
   "display_name": "Python 3 (ipykernel)",
   "language": "python",
   "name": "python3"
  },
  "language_info": {
   "codemirror_mode": {
    "name": "ipython",
    "version": 3
   },
   "file_extension": ".py",
   "mimetype": "text/x-python",
   "name": "python",
   "nbconvert_exporter": "python",
   "pygments_lexer": "ipython3",
   "version": "3.7.0"
  }
 },
 "nbformat": 4,
 "nbformat_minor": 5
}
