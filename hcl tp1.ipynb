{
 "cells": [
  {
   "cell_type": "code",
   "execution_count": 2,
   "id": "ec339f23",
   "metadata": {},
   "outputs": [
    {
     "name": "stdout",
     "output_type": "stream",
     "text": [
      "[1, 2, 3, 4, 5, 6, 7]\n"
     ]
    }
   ],
   "source": [
    "l = [1,2,3,4,5,4,5,6,7]\n",
    "\n",
    "for i in l:\n",
    "    if l.count(i)>1:\n",
    "        l.remove(i)\n",
    "        \n",
    "print(l)"
   ]
  },
  {
   "cell_type": "code",
   "execution_count": 3,
   "id": "105ce421",
   "metadata": {},
   "outputs": [
    {
     "data": {
      "text/plain": [
       "[7, 6, 5, 4, 3, 2, 1]"
      ]
     },
     "execution_count": 3,
     "metadata": {},
     "output_type": "execute_result"
    }
   ],
   "source": [
    "l = [1, 2, 3, 4, 5, 6, 7]\n",
    "l[::-1]\n",
    "\n"
   ]
  },
  {
   "cell_type": "code",
   "execution_count": 4,
   "id": "f255d01a",
   "metadata": {},
   "outputs": [
    {
     "name": "stdout",
     "output_type": "stream",
     "text": [
      "6\n"
     ]
    }
   ],
   "source": [
    "x = lambda a,b: a+b\n",
    "print(x(2,4))"
   ]
  },
  {
   "cell_type": "code",
   "execution_count": 5,
   "id": "2bec535a",
   "metadata": {},
   "outputs": [
    {
     "name": "stdout",
     "output_type": "stream",
     "text": [
      "before Execution\n",
      "Hello Akansha\n",
      "after execution\n"
     ]
    }
   ],
   "source": [
    "def dec(func):\n",
    "    def inner():\n",
    "        print(\"before Execution\")\n",
    "        func()\n",
    "        print(\"after execution\")\n",
    "        \n",
    "    return inner\n",
    "\n",
    "\n",
    "@dec\n",
    "def test():\n",
    "    print(\"Hello Akansha\")\n",
    "    \n",
    "test()"
   ]
  },
  {
   "cell_type": "code",
   "execution_count": 6,
   "id": "5fc8f034",
   "metadata": {},
   "outputs": [
    {
     "data": {
      "text/plain": [
       "[4]"
      ]
     },
     "execution_count": 6,
     "metadata": {},
     "output_type": "execute_result"
    }
   ],
   "source": [
    "l = [7, 6, 5, 4, 3, 2, 1]\n",
    "x = [i for i in l if i ==4]\n",
    "x\n"
   ]
  },
  {
   "cell_type": "code",
   "execution_count": 7,
   "id": "84884982",
   "metadata": {},
   "outputs": [
    {
     "name": "stdout",
     "output_type": "stream",
     "text": [
      "1\n",
      "2\n",
      "3\n"
     ]
    }
   ],
   "source": [
    "def gen():\n",
    "    yield 1\n",
    "    yield 2\n",
    "    yield 3\n",
    "    \n",
    "    \n",
    "for i in gen():\n",
    "    print(i)"
   ]
  },
  {
   "cell_type": "code",
   "execution_count": 11,
   "id": "82f99fcf",
   "metadata": {},
   "outputs": [
    {
     "name": "stdout",
     "output_type": "stream",
     "text": [
      "['1', '13', '16', '5', '8']\n"
     ]
    }
   ],
   "source": [
    "l = [ \"13\", \"16\", \"1\", \"5\" , \"8\"]\n",
    "x = []\n",
    "for i in l:\n",
    "    x.append(int(i))\n",
    "    \n",
    "for j in range(len(x)):\n",
    "    for k in range(len(x)-1):\n",
    "        if l[k] > l[k+1]:\n",
    "            l[k], l[k+1] = l[k+1], l[k]\n",
    "            \n",
    "            \n",
    "print(l)\n",
    "\n"
   ]
  },
  {
   "cell_type": "code",
   "execution_count": null,
   "id": "8f857198",
   "metadata": {},
   "outputs": [],
   "source": [
    "def check_string(s):\n",
    "    l [ \"()\",\"{}\",\"[]\",\"(){}[]\",\"(){}\",\"{}[]\",]"
   ]
  },
  {
   "cell_type": "code",
   "execution_count": 12,
   "id": "98b67461",
   "metadata": {},
   "outputs": [
    {
     "ename": "SyntaxError",
     "evalue": "invalid syntax (3920444536.py, line 1)",
     "output_type": "error",
     "traceback": [
      "\u001b[1;36m  File \u001b[1;32m\"C:\\Users\\Akanksha.Rana\\AppData\\Local\\Temp\\ipykernel_19284\\3920444536.py\"\u001b[1;36m, line \u001b[1;32m1\u001b[0m\n\u001b[1;33m    django-admin start project projectname\u001b[0m\n\u001b[1;37m                     ^\u001b[0m\n\u001b[1;31mSyntaxError\u001b[0m\u001b[1;31m:\u001b[0m invalid syntax\n"
     ]
    }
   ],
   "source": [
    "django-admin start project projectname\n",
    "\n",
    "employee.object.all()\n",
    "employee.object.filter(name=\"rana\")\n",
    "\n",
    "Select name, dep, dep_name from employee as e\n",
    "left join dep d on d.dep_id = e.emp_id\n",
    "\n",
    "\n",
    "select name from employee where name =\"%a\"\n"
   ]
  },
  {
   "cell_type": "code",
   "execution_count": 13,
   "id": "1fec6d0c",
   "metadata": {},
   "outputs": [],
   "source": [
    "l = [1,2,3,4,5,4,5,6,7]\n",
    "x = [*set(l)]"
   ]
  },
  {
   "cell_type": "code",
   "execution_count": 14,
   "id": "7b763d7c",
   "metadata": {},
   "outputs": [
    {
     "data": {
      "text/plain": [
       "[1, 2, 3, 4, 5, 6, 7]"
      ]
     },
     "execution_count": 14,
     "metadata": {},
     "output_type": "execute_result"
    }
   ],
   "source": [
    "x"
   ]
  },
  {
   "cell_type": "code",
   "execution_count": null,
   "id": "850705b7",
   "metadata": {},
   "outputs": [],
   "source": []
  }
 ],
 "metadata": {
  "kernelspec": {
   "display_name": "Python 3 (ipykernel)",
   "language": "python",
   "name": "python3"
  },
  "language_info": {
   "codemirror_mode": {
    "name": "ipython",
    "version": 3
   },
   "file_extension": ".py",
   "mimetype": "text/x-python",
   "name": "python",
   "nbconvert_exporter": "python",
   "pygments_lexer": "ipython3",
   "version": "3.7.0"
  }
 },
 "nbformat": 4,
 "nbformat_minor": 5
}
