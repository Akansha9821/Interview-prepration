{
 "cells": [
  {
   "cell_type": "code",
   "execution_count": 22,
   "id": "2d2ad4e1",
   "metadata": {},
   "outputs": [
    {
     "name": "stdout",
     "output_type": "stream",
     "text": [
      "akansha 25\n",
      "+++++++++++++++++ student name ria gain toal percentage is 112.99999999999999\n",
      "None\n",
      "akansha 25\n"
     ]
    }
   ],
   "source": [
    "class student:\n",
    "    def __init__(self, name, age):\n",
    "        self.name = name\n",
    "        self.age = age\n",
    "        \n",
    "    def printfun(self):\n",
    "        print(self.name, self.age)\n",
    "     \n",
    "    @classmethod\n",
    "    def marks(cls, name, number):\n",
    "        per = (number/600)*100\n",
    "        return (\"student name {} gain toal percentage is {}\".format(name, per))\n",
    "        \n",
    "        \n",
    "    \n",
    "        \n",
    "obj = student(\"akansha\", 25)\n",
    "t = obj.printfun()\n",
    "s = student.marks(\"ria\", 678)\n",
    "print('+++++++++++++++++',s)\n",
    "print(t)\n",
    "print(obj.name, obj.age)\n"
   ]
  },
  {
   "cell_type": "code",
   "execution_count": 30,
   "id": "fd38c7a5",
   "metadata": {},
   "outputs": [
    {
     "name": "stdout",
     "output_type": "stream",
     "text": [
      "hello world\n",
      "Hii this is for checking decorator function\n",
      "None\n"
     ]
    }
   ],
   "source": [
    "def dec(func):\n",
    "    def hello():\n",
    "        print(\"hello world\")\n",
    "        func()\n",
    "    return hello()\n",
    "\n",
    "@dec\n",
    "def check_dec():\n",
    "    print(\"Hii this is for checking decorator function\")\n",
    "    \n",
    "obj = check_dec\n",
    "print(obj)"
   ]
  },
  {
   "cell_type": "code",
   "execution_count": 36,
   "id": "a686a8a5",
   "metadata": {},
   "outputs": [
    {
     "name": "stdout",
     "output_type": "stream",
     "text": [
      "30\n",
      "Hii this is for checking decorator function 10 20\n",
      "None\n"
     ]
    }
   ],
   "source": [
    "def add_dec(func):\n",
    "    def add(a, b):\n",
    "        print(a+b)\n",
    "        func(a, b)\n",
    "    return add\n",
    "\n",
    "@add_dec\n",
    "def check_dec(a, b):\n",
    "    if a > b:\n",
    "        a, b = b, a\n",
    "    print(\"Hii this is for checking decorator function\", a, b)\n",
    "\n",
    "o = check_dec(10, 20)\n",
    "print(o)"
   ]
  },
  {
   "cell_type": "code",
   "execution_count": 38,
   "id": "f3f6832c",
   "metadata": {},
   "outputs": [
    {
     "name": "stdout",
     "output_type": "stream",
     "text": [
      "1\n",
      "2\n",
      "3\n"
     ]
    }
   ],
   "source": [
    "def genretor():\n",
    "    yield 1\n",
    "    yield 2\n",
    "    yield 3\n",
    "    \n",
    "for i in genretor():\n",
    "    print(i)"
   ]
  },
  {
   "cell_type": "code",
   "execution_count": 43,
   "id": "4e952cec",
   "metadata": {},
   "outputs": [
    {
     "name": "stdout",
     "output_type": "stream",
     "text": [
      "4950\n"
     ]
    }
   ],
   "source": [
    "def genrator(n):\n",
    "    \n",
    "    num = 0\n",
    "    \n",
    "    while num < n:\n",
    "        yield num\n",
    "        num += 1\n",
    "        \n",
    "g = sum(genrator(100))\n",
    "print(g)\n",
    "    "
   ]
  },
  {
   "cell_type": "code",
   "execution_count": 44,
   "id": "28d1c0a2",
   "metadata": {},
   "outputs": [
    {
     "name": "stdout",
     "output_type": "stream",
     "text": [
      "[4, 16, 36, 64]\n"
     ]
    }
   ],
   "source": [
    "l = [2, 4, 6, 8]\n",
    "\n",
    "a = [i*i for i in l ]\n",
    "print(a)"
   ]
  },
  {
   "cell_type": "code",
   "execution_count": 45,
   "id": "d2518cdb",
   "metadata": {},
   "outputs": [
    {
     "name": "stdout",
     "output_type": "stream",
     "text": [
      "25\n"
     ]
    }
   ],
   "source": [
    "x = lambda a: a*a\n",
    "print(x(5))"
   ]
  },
  {
   "cell_type": "code",
   "execution_count": 48,
   "id": "f7ef2036",
   "metadata": {},
   "outputs": [
    {
     "name": "stdout",
     "output_type": "stream",
     "text": [
      "[3, 4, 5, 6, 7, 8]\n"
     ]
    }
   ],
   "source": [
    "l = [\"2\",\"3\",\"4\",\"5\",\"6\",\"7\"]\n",
    "\n",
    "d = list(map(lambda n: int(n)+1, l))\n",
    "print(d)\n",
    "\n"
   ]
  },
  {
   "cell_type": "code",
   "execution_count": 54,
   "id": "f4ca3a95",
   "metadata": {},
   "outputs": [
    {
     "name": "stdout",
     "output_type": "stream",
     "text": [
      "[3]\n"
     ]
    }
   ],
   "source": [
    "l = [1,2,3,4,5]\n",
    "\n",
    "d = list(filter(lambda n: n if n ==3 else None, l))\n",
    "print(d)"
   ]
  },
  {
   "cell_type": "code",
   "execution_count": 57,
   "id": "674d165c",
   "metadata": {},
   "outputs": [
    {
     "name": "stdout",
     "output_type": "stream",
     "text": [
      "120\n"
     ]
    }
   ],
   "source": [
    "from functools import reduce\n",
    "l = [2,3,4,5]\n",
    "\n",
    "d = reduce(lambda a, b: a*b, l)\n",
    "print(d)"
   ]
  },
  {
   "cell_type": "code",
   "execution_count": 62,
   "id": "482f8522",
   "metadata": {},
   "outputs": [
    {
     "data": {
      "text/plain": [
       "(1, 4, 5, 6)"
      ]
     },
     "execution_count": 62,
     "metadata": {},
     "output_type": "execute_result"
    }
   ],
   "source": [
    "def print_add(*args, **kwrgs):\n",
    "    return args\n",
    "\n",
    "l = [1,4,5,6]\n",
    "print_add(*l)\n",
    "    "
   ]
  },
  {
   "cell_type": "code",
   "execution_count": null,
   "id": "3d82a3c3",
   "metadata": {},
   "outputs": [],
   "source": []
  }
 ],
 "metadata": {
  "kernelspec": {
   "display_name": "Python 3 (ipykernel)",
   "language": "python",
   "name": "python3"
  },
  "language_info": {
   "codemirror_mode": {
    "name": "ipython",
    "version": 3
   },
   "file_extension": ".py",
   "mimetype": "text/x-python",
   "name": "python",
   "nbconvert_exporter": "python",
   "pygments_lexer": "ipython3",
   "version": "3.7.0"
  }
 },
 "nbformat": 4,
 "nbformat_minor": 5
}
