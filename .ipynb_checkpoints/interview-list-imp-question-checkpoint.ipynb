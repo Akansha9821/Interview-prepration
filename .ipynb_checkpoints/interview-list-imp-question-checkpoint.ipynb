{
 "cells": [
  {
   "cell_type": "markdown",
   "id": "80c04ff0",
   "metadata": {},
   "source": [
    "q1: Program to find the frequency of each element of an array\n",
    "\n",
    "    arr = [1, 2, 8, 3, 2, 2, 2, 5, 1]  \n",
    "    \n",
    "    Element | Frequency\n",
    "       1|2\n",
    "       2|4\n",
    "       8|1\n",
    "       3|1\n",
    "       5|1"
   ]
  },
  {
   "cell_type": "code",
   "execution_count": 24,
   "id": "7648ccd9",
   "metadata": {},
   "outputs": [
    {
     "name": "stdout",
     "output_type": "stream",
     "text": [
      "Element | Frequency\n",
      "1|2\n",
      "2|4\n",
      "8|1\n",
      "3|1\n",
      "2|4\n",
      "2|4\n",
      "2|4\n",
      "5|1\n",
      "1|2\n"
     ]
    }
   ],
   "source": [
    "arr = [1, 2, 8, 3, 2, 2, 2, 5, 1]\n",
    "\n",
    "print(\"Element | Frequency\")\n",
    "for i in arr:\n",
    "    c = arr.count(i)\n",
    "    print(\"{}|{}\".format(i, c))\n",
    "    \n",
    "    "
   ]
  },
  {
   "cell_type": "code",
   "execution_count": null,
   "id": "737f127c",
   "metadata": {},
   "outputs": [],
   "source": []
  }
 ],
 "metadata": {
  "kernelspec": {
   "display_name": "Python 3 (ipykernel)",
   "language": "python",
   "name": "python3"
  },
  "language_info": {
   "codemirror_mode": {
    "name": "ipython",
    "version": 3
   },
   "file_extension": ".py",
   "mimetype": "text/x-python",
   "name": "python",
   "nbconvert_exporter": "python",
   "pygments_lexer": "ipython3",
   "version": "3.7.0"
  }
 },
 "nbformat": 4,
 "nbformat_minor": 5
}
