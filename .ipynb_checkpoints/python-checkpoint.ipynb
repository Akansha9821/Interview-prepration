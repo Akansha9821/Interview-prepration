{
 "cells": [
  {
   "cell_type": "code",
   "execution_count": 1,
   "id": "1268d677",
   "metadata": {},
   "outputs": [
    {
     "data": {
      "text/plain": [
       "'You can display a string literal with the'"
      ]
     },
     "execution_count": 1,
     "metadata": {},
     "output_type": "execute_result"
    }
   ],
   "source": [
    "var = \"You can display a string literal with the\"\n",
    "var"
   ]
  },
  {
   "cell_type": "code",
   "execution_count": 2,
   "id": "7b47abe8",
   "metadata": {},
   "outputs": [
    {
     "data": {
      "text/plain": [
       "41"
      ]
     },
     "execution_count": 2,
     "metadata": {},
     "output_type": "execute_result"
    }
   ],
   "source": [
    "len(var)"
   ]
  },
  {
   "cell_type": "code",
   "execution_count": 7,
   "id": "c417ae1f",
   "metadata": {},
   "outputs": [
    {
     "data": {
      "text/plain": [
       "'eht htiw laretil gnirts a yalpsid nac uoY'"
      ]
     },
     "execution_count": 7,
     "metadata": {},
     "output_type": "execute_result"
    }
   ],
   "source": [
    "var[::-1]"
   ]
  },
  {
   "cell_type": "code",
   "execution_count": 17,
   "id": "66a9dfd6",
   "metadata": {},
   "outputs": [],
   "source": [
    "var = var[-1].replace('e','t')"
   ]
  },
  {
   "cell_type": "code",
   "execution_count": 19,
   "id": "911f0f33",
   "metadata": {},
   "outputs": [
    {
     "data": {
      "text/plain": [
       "'t'"
      ]
     },
     "execution_count": 19,
     "metadata": {},
     "output_type": "execute_result"
    }
   ],
   "source": [
    "var\n"
   ]
  },
  {
   "cell_type": "markdown",
   "id": "50a9a451",
   "metadata": {},
   "source": [
    "Q1: Given a string s, find the length of the longest substring without repeating characters.\n",
    "\n",
    "Input: s = \"abcabcbb\"\n",
    "\n",
    "\n",
    "Output: 3\n",
    "\n",
    "\n",
    "Explanation: The answer is \"abc\", with the length of 3."
   ]
  },
  {
   "cell_type": "code",
   "execution_count": 28,
   "id": "dbfc898d",
   "metadata": {},
   "outputs": [
    {
     "name": "stdout",
     "output_type": "stream",
     "text": [
      "b b\n"
     ]
    }
   ],
   "source": [
    "s = \"abcabcbb\"\n",
    "\n",
    "s[1],s[-1] == s[-1], s[1]\n",
    "print(s[1],s[-1])\n",
    "    "
   ]
  },
  {
   "cell_type": "code",
   "execution_count": 21,
   "id": "32baaf0d",
   "metadata": {},
   "outputs": [],
   "source": [
    "a=10\n",
    "b=3\n",
    "\n",
    "a,b = b,a"
   ]
  },
  {
   "cell_type": "code",
   "execution_count": 22,
   "id": "ad4e37bf",
   "metadata": {},
   "outputs": [
    {
     "name": "stdout",
     "output_type": "stream",
     "text": [
      "3 10\n"
     ]
    }
   ],
   "source": [
    "print(a, b)"
   ]
  },
  {
   "cell_type": "code",
   "execution_count": 39,
   "id": "d1b9f6b7",
   "metadata": {},
   "outputs": [],
   "source": [
    "def rev_string(s):\n",
    "    rev=' '\n",
    "    for i in range(len(s), 0, -1):\n",
    "        rev += s[i-1]\n",
    "    return rev"
   ]
  },
  {
   "cell_type": "code",
   "execution_count": 40,
   "id": "b370eb6c",
   "metadata": {},
   "outputs": [
    {
     "data": {
      "text/plain": [
       "' bbcbacba'"
      ]
     },
     "execution_count": 40,
     "metadata": {},
     "output_type": "execute_result"
    }
   ],
   "source": [
    "rev_string(\"abcabcbb\")"
   ]
  },
  {
   "cell_type": "code",
   "execution_count": 37,
   "id": "798a4fe5",
   "metadata": {},
   "outputs": [],
   "source": [
    "def findReverse(string):\n",
    "    reverse = ''\n",
    "    for i in range(len(string), 0, -1):\n",
    "        reverse += string[i-1]\n",
    "    return reverse"
   ]
  },
  {
   "cell_type": "code",
   "execution_count": 38,
   "id": "b282420b",
   "metadata": {},
   "outputs": [
    {
     "data": {
      "text/plain": [
       "'bbcbacba'"
      ]
     },
     "execution_count": 38,
     "metadata": {},
     "output_type": "execute_result"
    }
   ],
   "source": [
    "findReverse(s)"
   ]
  },
  {
   "cell_type": "code",
   "execution_count": null,
   "id": "96417a72",
   "metadata": {},
   "outputs": [],
   "source": [
    "def check_freq(s, ch):\n",
    "    c = 0\n",
    "    inp = s.lower()\n",
    "    if inp == ch:\n",
    "        c +=1\n",
    "    return c\n",
    "\n",
    "s = input(\"Enter String : \")\n",
    "ch = input(\"Enter Choice : \")\n"
   ]
  },
  {
   "cell_type": "code",
   "execution_count": null,
   "id": "85a8d506",
   "metadata": {},
   "outputs": [],
   "source": [
    "check_freq(s, sh)"
   ]
  },
  {
   "cell_type": "code",
   "execution_count": null,
   "id": "c9676983",
   "metadata": {},
   "outputs": [],
   "source": []
  }
 ],
 "metadata": {
  "kernelspec": {
   "display_name": "Python 3 (ipykernel)",
   "language": "python",
   "name": "python3"
  },
  "language_info": {
   "codemirror_mode": {
    "name": "ipython",
    "version": 3
   },
   "file_extension": ".py",
   "mimetype": "text/x-python",
   "name": "python",
   "nbconvert_exporter": "python",
   "pygments_lexer": "ipython3",
   "version": "3.7.0"
  }
 },
 "nbformat": 4,
 "nbformat_minor": 5
}
