{
 "cells": [
  {
   "cell_type": "markdown",
   "id": "acad9786",
   "metadata": {},
   "source": [
    "### Reversed string"
   ]
  },
  {
   "cell_type": "code",
   "execution_count": 1,
   "id": "6ac370c5",
   "metadata": {},
   "outputs": [
    {
     "name": "stdout",
     "output_type": "stream",
     "text": [
      "tset sysofnI\n"
     ]
    }
   ],
   "source": [
    "txt = \"Infosys test\"\n",
    "s = \"\"\n",
    "for i in txt:\n",
    "    s = i+s\n",
    "print(s)\n",
    "\n"
   ]
  },
  {
   "cell_type": "code",
   "execution_count": 35,
   "id": "0e2a7b89",
   "metadata": {},
   "outputs": [
    {
     "name": "stdout",
     "output_type": "stream",
     "text": [
      "jupyter\n"
     ]
    },
    {
     "data": {
      "text/plain": [
       "'upyterj'"
      ]
     },
     "execution_count": 35,
     "metadata": {},
     "output_type": "execute_result"
    }
   ],
   "source": [
    "def rev_str(s):\n",
    "    if len(s) == 0:\n",
    "        return s\n",
    "    else:\n",
    "        return s[1:]+s[0]\n",
    "\n",
    "s = input()\n",
    "rev_str(s)\n",
    "        "
   ]
  },
  {
   "cell_type": "code",
   "execution_count": 77,
   "id": "8a4bcc97",
   "metadata": {},
   "outputs": [],
   "source": [
    "s = \"Akansha\"\n",
    "l = [s[i] for i in range(len(s)-1, -1, -1)] \n"
   ]
  },
  {
   "cell_type": "code",
   "execution_count": 15,
   "id": "337d61c0",
   "metadata": {},
   "outputs": [
    {
     "name": "stdout",
     "output_type": "stream",
     "text": [
      "a\n",
      "h\n",
      "s\n",
      "n\n",
      "a\n",
      "k\n",
      "A\n"
     ]
    }
   ],
   "source": [
    "def reve_stack(s):\n",
    "    stack = []\n",
    "    e = \"\"\n",
    "    for i in s:\n",
    "        stack.append(i)\n",
    "        \n",
    "    while len(stack) != 0:\n",
    "        e = stack.pop()\n",
    "        print(e)     \n",
    "        \n",
    "        \n",
    "    \n",
    "reve_stack(\"Akansha\")"
   ]
  },
  {
   "cell_type": "markdown",
   "id": "4dcc86aa",
   "metadata": {},
   "source": [
    "### Duplicate from string"
   ]
  },
  {
   "cell_type": "code",
   "execution_count": 20,
   "id": "8aac2a8c",
   "metadata": {},
   "outputs": [
    {
     "name": "stdout",
     "output_type": "stream",
     "text": [
      "a\n",
      "k\n",
      "a\n",
      "k\n",
      "a\n"
     ]
    }
   ],
   "source": [
    "def duplicate(x):\n",
    "    for i in x:\n",
    "        if x.count(i) > 1:\n",
    "            print(i)\n",
    "            \n",
    "            \n",
    "duplicate(\"akanksha\")"
   ]
  },
  {
   "cell_type": "code",
   "execution_count": 30,
   "id": "1a4668b7",
   "metadata": {},
   "outputs": [
    {
     "name": "stdout",
     "output_type": "stream",
     "text": [
      "k\n",
      "a\n"
     ]
    }
   ],
   "source": [
    "from collections import Counter\n",
    "\n",
    "def dup(x):\n",
    "    a = Counter(x)\n",
    "    \n",
    "    for k, v in a.items():\n",
    "        if a[k] > 1:\n",
    "            print(k)\n",
    "    \n",
    "dup(\"Akanksha\")"
   ]
  },
  {
   "cell_type": "markdown",
   "id": "e4ac95ca",
   "metadata": {},
   "source": [
    "### sort "
   ]
  },
  {
   "cell_type": "code",
   "execution_count": 35,
   "id": "7fa2d0b8",
   "metadata": {},
   "outputs": [
    {
     "name": "stdout",
     "output_type": "stream",
     "text": [
      "['e', 'a', 'r', 't', 'h']\n"
     ]
    }
   ],
   "source": [
    "def sort_string(s):\n",
    "    l_s = len(s)\n",
    "    l = []\n",
    "    for i in s:\n",
    "        l.append(i)\n",
    "    print(l)\n",
    "    \n",
    "    \n",
    "sort_string(\"earth\")\n",
    "        "
   ]
  },
  {
   "cell_type": "markdown",
   "id": "00221818",
   "metadata": {},
   "source": [
    "### anagrams string"
   ]
  },
  {
   "cell_type": "code",
   "execution_count": 44,
   "id": "88fb7f8d",
   "metadata": {},
   "outputs": [
    {
     "name": "stdout",
     "output_type": "stream",
     "text": [
      "['a', 'e', 'h', 'r', 't']\n",
      "anagram\n"
     ]
    }
   ],
   "source": [
    "def anagrams(s1, s2):\n",
    "    a1 = sorted(s1)\n",
    "    a2 = sorted(s2)\n",
    "    print(a1)\n",
    "    if a1 == a2:\n",
    "        print(\"anagram\")\n",
    "    else:\n",
    "        print('******')\n",
    "        \n",
    "        \n",
    "anagrams(\"earth\", \"heart\")\n",
    "        "
   ]
  },
  {
   "cell_type": "markdown",
   "id": "65f6a5db",
   "metadata": {},
   "source": [
    "### occurrence of a given character"
   ]
  },
  {
   "cell_type": "code",
   "execution_count": null,
   "id": "d78f5279",
   "metadata": {},
   "outputs": [],
   "source": [
    "def occ_string(s):\n",
    "    for i in s:\n",
    "        a = s.count(i) \n",
    "        if a > 1:\n",
    "            print(\"The string is\",i, \"and the occurace is\", a )\n",
    "            \n",
    "            \n",
    "occ_string(\"akanshakh\")"
   ]
  },
  {
   "cell_type": "code",
   "execution_count": 1,
   "id": "3c59e385",
   "metadata": {},
   "outputs": [
    {
     "name": "stdout",
     "output_type": "stream",
     "text": [
      "7\n"
     ]
    }
   ],
   "source": [
    "def check_occ(s):\n",
    "    c = 0\n",
    "    for i in s:\n",
    "        if s.count(i) > 1:\n",
    "            c += 1\n",
    "            \n",
    "            \n",
    "    print(c)\n",
    "    \n",
    "    \n",
    "check_occ(\"akanshakh\")"
   ]
  },
  {
   "cell_type": "code",
   "execution_count": 8,
   "id": "35ef92f1",
   "metadata": {},
   "outputs": [
    {
     "data": {
      "text/plain": [
       "\"{'T': 1, 'u': 1, 't': 2, 'o': 2, 'r': 1, 'i': 2, 'a': 1, 'l': 1, 's': 1, 'p': 1, 'n': 1}\""
      ]
     },
     "execution_count": 8,
     "metadata": {},
     "output_type": "execute_result"
    }
   ],
   "source": [
    "test_str = \"Tutorialspoint\"\n",
    "count_dict = {}\n",
    "for i in test_str:\n",
    "    if i in count_dict:\n",
    "        count_dict[i] += 1\n",
    "    else:\n",
    "        count_dict[i] = 1\n",
    "        \n",
    "str(count_dict)"
   ]
  },
  {
   "cell_type": "code",
   "execution_count": 11,
   "id": "0cb59ab0",
   "metadata": {},
   "outputs": [
    {
     "name": "stdout",
     "output_type": "stream",
     "text": [
      "{'s': 1, 'u': 1, 'o': 2, 'a': 1, 'l': 1, 'n': 1, 'p': 1, 't': 2, 'i': 2, 'r': 1, 'T': 1}\n"
     ]
    }
   ],
   "source": [
    "test_str = \"Tutorialspoint\"\n",
    "res = {i : test_str.count(i) for i in set(test_str)}\n",
    "print (str(dict(res)))"
   ]
  },
  {
   "cell_type": "markdown",
   "id": "06c877e4",
   "metadata": {},
   "source": [
    "### decoraor\n"
   ]
  },
  {
   "cell_type": "code",
   "execution_count": 21,
   "id": "72961fbf",
   "metadata": {},
   "outputs": [
    {
     "name": "stdout",
     "output_type": "stream",
     "text": [
      "before exceution\n",
      "hello Here\n"
     ]
    }
   ],
   "source": [
    "def dec(func):\n",
    "    def inner():\n",
    "        print(\"before exceution\")\n",
    "        \n",
    "        func()\n",
    "    return inner\n",
    "\n",
    "\n",
    "# @dec\n",
    "def check_dec():\n",
    "    print(\"hello Here\")\n",
    "    \n",
    "check_dec = dec(check_dec)\n",
    "check_dec()\n"
   ]
  },
  {
   "cell_type": "code",
   "execution_count": 28,
   "id": "7e037e55",
   "metadata": {},
   "outputs": [
    {
     "data": {
      "text/plain": [
       "3"
      ]
     },
     "execution_count": 28,
     "metadata": {},
     "output_type": "execute_result"
    }
   ],
   "source": [
    "def withargs(func):\n",
    "    def inner(a, b):\n",
    "        if b < a:\n",
    "            a, b convert= b, a\n",
    "            return func(a, b)\n",
    "    return inner\n",
    "\n",
    "\n",
    "def check_Dec(a, b):\n",
    "    return a%b\n",
    "\n",
    "check_Dec = withargs(check_Dec)\n",
    "check_Dec(10, 3)"
   ]
  },
  {
   "cell_type": "code",
   "execution_count": 29,
   "id": "dcccaa38",
   "metadata": {},
   "outputs": [],
   "source": [
    "from datetime import datetime"
   ]
  },
  {
   "cell_type": "code",
   "execution_count": 32,
   "id": "71c0c2fb",
   "metadata": {},
   "outputs": [],
   "source": [
    "import  pytz"
   ]
  },
  {
   "cell_type": "code",
   "execution_count": 48,
   "id": "306ac020",
   "metadata": {},
   "outputs": [
    {
     "name": "stdout",
     "output_type": "stream",
     "text": [
      "[20, 40, 30]\n"
     ]
    }
   ],
   "source": [
    "d = {\"a\":20, \"b\":40, \"A\":30}\n",
    "\n",
    "l = []\n",
    "\n",
    "for i in d:\n",
    "    l.append(d[i])\n",
    "    \n",
    "print(l)"
   ]
  },
  {
   "cell_type": "code",
   "execution_count": 15,
   "id": "359f0892",
   "metadata": {},
   "outputs": [
    {
     "name": "stdout",
     "output_type": "stream",
     "text": [
      "['a', 'a', 'a', 'h', 'k', 'n', 's']\n"
     ]
    }
   ],
   "source": [
    "def sort_s(s):\n",
    "    l = []\n",
    "    for i in s:\n",
    "        l.append(ord(i))\n",
    "        \n",
    "    for k in range(len(l)):\n",
    "        for m in range(len(l)-1):\n",
    "            if l[m] > l[m+1]:\n",
    "                l[m], l[m+1] = l[m+1], l[m]\n",
    "        \n",
    "    x = [chr(h) for h in l]\n",
    "    print(x)\n",
    "        \n",
    "        \n",
    "sort_s(\"akansha\")"
   ]
  },
  {
   "cell_type": "code",
   "execution_count": 22,
   "id": "2b8ecd40",
   "metadata": {},
   "outputs": [
    {
     "data": {
      "text/plain": [
       "[12, 3, 4, 6, 12, 3, 4, 6]"
      ]
     },
     "execution_count": 22,
     "metadata": {},
     "output_type": "execute_result"
    }
   ],
   "source": [
    "l = [12,3,4,6,7,7,8,3]\n",
    "l[4:] = l[:-\n",
    "          4]\n",
    "l"
   ]
  },
  {
   "cell_type": "code",
   "execution_count": 23,
   "id": "3ed68654",
   "metadata": {},
   "outputs": [
    {
     "name": "stdout",
     "output_type": "stream",
     "text": [
      "()\n",
      "{'name': 'akansha'}\n"
     ]
    }
   ],
   "source": [
    "def test(*args, **kwargs):\n",
    "    print(args)\n",
    "    print(kwargs)\n",
    "    \n",
    "test(name = \"akansha\")"
   ]
  },
  {
   "cell_type": "code",
   "execution_count": 27,
   "id": "4cde1522",
   "metadata": {},
   "outputs": [
    {
     "name": "stdout",
     "output_type": "stream",
     "text": [
      "[12, 3, 4, 6, 12, 3, 4, 6]\n",
      "2\n",
      "3\n"
     ]
    }
   ],
   "source": [
    "def gen():\n",
    "    \n",
    "    yield l\n",
    "    yield 2\n",
    "    yield 3\n",
    "    \n",
    "    \n",
    "for i in gen():\n",
    "    print(i)\n",
    "        \n",
    "        \n",
    "        \n",
    "    "
   ]
  },
  {
   "cell_type": "code",
   "execution_count": 28,
   "id": "d8d57677",
   "metadata": {},
   "outputs": [
    {
     "data": {
      "text/plain": [
       "<generator object gen at 0x00000227FA5399A8>"
      ]
     },
     "execution_count": 28,
     "metadata": {},
     "output_type": "execute_result"
    }
   ],
   "source": []
  },
  {
   "cell_type": "code",
   "execution_count": null,
   "id": "ce140405",
   "metadata": {},
   "outputs": [],
   "source": []
  }
 ],
 "metadata": {
  "kernelspec": {
   "display_name": "Python 3 (ipykernel)",
   "language": "python",
   "name": "python3"
  },
  "language_info": {
   "codemirror_mode": {
    "name": "ipython",
    "version": 3
   },
   "file_extension": ".py",
   "mimetype": "text/x-python",
   "name": "python",
   "nbconvert_exporter": "python",
   "pygments_lexer": "ipython3",
   "version": "3.7.0"
  }
 },
 "nbformat": 4,
 "nbformat_minor": 5
}
