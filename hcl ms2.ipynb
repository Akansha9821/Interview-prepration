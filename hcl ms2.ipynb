{
 "cells": [
  {
   "cell_type": "code",
   "execution_count": 12,
   "id": "be80f8a8",
   "metadata": {},
   "outputs": [
    {
     "name": "stdout",
     "output_type": "stream",
     "text": [
      "yyy aaa vvv\n",
      "yyy bbb zzz\n",
      "aaa vvv ddd\n",
      "xxx yyy zzz\n",
      "{'yyy': 'xxx yyy zzz', 'aaa': 'yyy aaa vvv', 'vvv': 'aaa vvv ddd', 'bbb': 'yyy bbb zzz'}\n"
     ]
    }
   ],
   "source": [
    "l = [\"xxx yyy zzz\",\"yyy aaa vvv\",\"aaa vvv ddd\",\"yyy bbb zzz\"]\n",
    "d={}\n",
    "for k in l:\n",
    "    k.split()\n",
    "    \n",
    "    d[k[3:7].strip()] = k\n",
    "    \n",
    "for k, v in sorted(d.items()):\n",
    "    if d[k] in v:\n",
    "        print(v)\n",
    "\n",
    "\n",
    "print(d)\n",
    "# \"yyy aaa vvv\"\n",
    "# \"yyy bbb zzz\"\n",
    "# \"aaa vvv ddd\"\n",
    "# \"xxx yyy zzz\""
   ]
  },
  {
   "cell_type": "code",
   "execution_count": 33,
   "id": "9a6c7a5e",
   "metadata": {},
   "outputs": [
    {
     "name": "stdout",
     "output_type": "stream",
     "text": [
      "Hii this is me\n",
      "testing\n"
     ]
    }
   ],
   "source": [
    "def dec(func):\n",
    "    def inner():\n",
    "        print(\"Hii this is me\")\n",
    "        func()\n",
    "    return inner\n",
    "\n",
    "@dec\n",
    "def test():\n",
    "    print(\"testing\")\n",
    "    \n",
    "test()"
   ]
  },
  {
   "cell_type": "code",
   "execution_count": 45,
   "id": "a723fdb2",
   "metadata": {},
   "outputs": [
    {
     "data": {
      "text/plain": [
       "<__main__.B at 0x1f54d6795c0>"
      ]
     },
     "execution_count": 45,
     "metadata": {},
     "output_type": "execute_result"
    }
   ],
   "source": [
    "class A:\n",
    "    def add(self, a=None, b=None):\n",
    "        return(a+b)\n",
    "    \n",
    "class B(A):\n",
    "    def add(self, a=None, b=None):\n",
    "        return (a-b)\n",
    "    \n",
    "    \n",
    "obj = B()\n",
    "obj.add(10, 5)\n",
    "obj\n",
    "    \n",
    "    \n",
    "\n",
    "        "
   ]
  },
  {
   "cell_type": "code",
   "execution_count": null,
   "id": "17cade69",
   "metadata": {},
   "outputs": [],
   "source": [
    "l = [10 , 20, 30]\n",
    "l = a\n",
    "a.append(40)"
   ]
  },
  {
   "cell_type": "code",
   "execution_count": 46,
   "id": "26183b8f",
   "metadata": {},
   "outputs": [
    {
     "ename": "TypeError",
     "evalue": "call() takes 2 positional arguments but 3 were given",
     "output_type": "error",
     "traceback": [
      "\u001b[1;31m---------------------------------------------------------------------------\u001b[0m",
      "\u001b[1;31mTypeError\u001b[0m                                 Traceback (most recent call last)",
      "\u001b[1;32m~\\AppData\\Local\\Temp\\ipykernel_15492\\3403380242.py\u001b[0m in \u001b[0;36m<module>\u001b[1;34m\u001b[0m\n\u001b[0;32m      4\u001b[0m   \u001b[1;32mpass\u001b[0m\u001b[1;33m\u001b[0m\u001b[0m\n\u001b[0;32m      5\u001b[0m \u001b[0mcall\u001b[0m\u001b[1;33m(\u001b[0m\u001b[1;36m10\u001b[0m\u001b[1;33m,\u001b[0m\u001b[1;36m20\u001b[0m\u001b[1;33m)\u001b[0m\u001b[1;33m\u001b[0m\u001b[0m\n\u001b[1;32m----> 6\u001b[1;33m \u001b[0mcall\u001b[0m\u001b[1;33m(\u001b[0m\u001b[1;36m10\u001b[0m\u001b[1;33m,\u001b[0m\u001b[1;36m20\u001b[0m\u001b[1;33m,\u001b[0m\u001b[1;36m30\u001b[0m\u001b[1;33m)\u001b[0m\u001b[1;33m\u001b[0m\u001b[0m\n\u001b[0m",
      "\u001b[1;31mTypeError\u001b[0m: call() takes 2 positional arguments but 3 were given"
     ]
    }
   ],
   "source": [
    "def call(a,b,c):\n",
    "  pass\n",
    "def call(a,b):\n",
    "  pass\n",
    "\n",
    "\n",
    "call(10,20)\n",
    "call(10,20,30)"
   ]
  },
  {
   "cell_type": "code",
   "execution_count": 14,
   "id": "c002159d",
   "metadata": {},
   "outputs": [
    {
     "data": {
      "text/plain": [
       "['aaa vvv ddd', 'xxx yyy zzz', 'yyy aaa vvv', 'yyy bbb zzz']"
      ]
     },
     "execution_count": 14,
     "metadata": {},
     "output_type": "execute_result"
    }
   ],
   "source": [
    "l = [\"xxx yyy zzz\",\"yyy aaa vvv\",\"aaa vvv ddd\",\"yyy bbb zzz\"]\n",
    "l.sort()\n",
    "l"
   ]
  },
  {
   "cell_type": "code",
   "execution_count": 16,
   "id": "ad8fff87",
   "metadata": {},
   "outputs": [
    {
     "ename": "AttributeError",
     "evalue": "'str' object has no attribute 'sort'",
     "output_type": "error",
     "traceback": [
      "\u001b[1;31m---------------------------------------------------------------------------\u001b[0m",
      "\u001b[1;31mAttributeError\u001b[0m                            Traceback (most recent call last)",
      "\u001b[1;32m~\\AppData\\Local\\Temp\\ipykernel_29528\\4210903870.py\u001b[0m in \u001b[0;36m<module>\u001b[1;34m\u001b[0m\n\u001b[0;32m      1\u001b[0m \u001b[0ms\u001b[0m \u001b[1;33m=\u001b[0m \u001b[1;34m\"yyy aaa vvv\"\u001b[0m\u001b[1;33m\u001b[0m\u001b[0m\n\u001b[1;32m----> 2\u001b[1;33m \u001b[0ms\u001b[0m\u001b[1;33m.\u001b[0m\u001b[0msort\u001b[0m\u001b[1;33m(\u001b[0m\u001b[1;33m)\u001b[0m\u001b[1;33m\u001b[0m\u001b[0m\n\u001b[0m",
      "\u001b[1;31mAttributeError\u001b[0m: 'str' object has no attribute 'sort'"
     ]
    }
   ],
   "source": [
    "s = \"yyy aaa vvv\"\n",
    "s.sort()"
   ]
  },
  {
   "cell_type": "code",
   "execution_count": null,
   "id": "f755f1ba",
   "metadata": {},
   "outputs": [],
   "source": []
  }
 ],
 "metadata": {
  "kernelspec": {
   "display_name": "Python 3 (ipykernel)",
   "language": "python",
   "name": "python3"
  },
  "language_info": {
   "codemirror_mode": {
    "name": "ipython",
    "version": 3
   },
   "file_extension": ".py",
   "mimetype": "text/x-python",
   "name": "python",
   "nbconvert_exporter": "python",
   "pygments_lexer": "ipython3",
   "version": "3.7.0"
  }
 },
 "nbformat": 4,
 "nbformat_minor": 5
}
