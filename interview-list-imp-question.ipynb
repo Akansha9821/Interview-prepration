{
 "cells": [
  {
   "cell_type": "markdown",
   "id": "272c7a75",
   "metadata": {},
   "source": [
    "q1: Program to find the frequency of each element of an array\n",
    "\n",
    "    arr = [1, 2, 8, 3, 2, 2, 2, 5, 1]  \n",
    "    \n",
    "    Element | Frequency\n",
    "       1|2\n",
    "       2|4\n",
    "       8|1\n",
    "       3|1\n",
    "       5|1"
   ]
  },
  {
   "cell_type": "code",
   "execution_count": 24,
   "id": "a02c359e",
   "metadata": {},
   "outputs": [
    {
     "name": "stdout",
     "output_type": "stream",
     "text": [
      "Element | Frequency\n",
      "1|2\n",
      "2|4\n",
      "8|1\n",
      "3|1\n",
      "2|4\n",
      "2|4\n",
      "2|4\n",
      "5|1\n",
      "1|2\n"
     ]
    }
   ],
   "source": [
    "arr = [1, 2, 8, 3, 2, 2, 2, 5, 1]\n",
    "\n",
    "print(\"Element | Frequency\")\n",
    "for i in arr:\n",
    "    c = arr.count(i)\n",
    "    print(\"{}|{}\".format(i, c))\n",
    "    \n",
    "    "
   ]
  },
  {
   "cell_type": "markdown",
   "id": "0da27297",
   "metadata": {},
   "source": [
    "q2:  Program to left rotate the elements of an array\n",
    "\n",
    "    arr = [1, 2, 3, 4, 5]  \n",
    "    \n",
    "    Here, n determine the number of times an array should be rotated  \n",
    "    \n",
    "    n = 3\n",
    "    \n",
    "    Original array: 1 2 3 4 5\n",
    "    \n",
    "    Array after left rotation: 4 5 1 2 3\n"
   ]
  },
  {
   "cell_type": "code",
   "execution_count": 26,
   "id": "c7fde787",
   "metadata": {},
   "outputs": [
    {
     "name": "stdout",
     "output_type": "stream",
     "text": [
      "[4, 5, 1, 2, 3]\n"
     ]
    }
   ],
   "source": [
    "arr = [1, 2, 3, 4, 5]\n",
    "n = 3\n",
    "l = arr[n:]+arr[:n]\n",
    "print(l)"
   ]
  },
  {
   "cell_type": "markdown",
   "id": "9028dbde",
   "metadata": {},
   "source": [
    "3) Program to print the duplicate elements of an array\n",
    "    \n",
    "    arr = [1, 2, 3, 4, 2, 7, 8, 8, 3];  \n",
    "\n",
    "    Duplicate elements in given array:\n",
    "        \n",
    "        2\n",
    "        3\n",
    "        8"
   ]
  },
  {
   "cell_type": "code",
   "execution_count": 37,
   "id": "f59673e3",
   "metadata": {},
   "outputs": [
    {
     "name": "stdout",
     "output_type": "stream",
     "text": [
      "[1, 2, 3, 4, 7, 8]\n"
     ]
    }
   ],
   "source": [
    "arr = [1, 2, 3, 4, 2, 7, 8, 8, 3]\n",
    "\n",
    "l = [*set(arr)]\n",
    "\n",
    "print(l)"
   ]
  },
  {
   "cell_type": "code",
   "execution_count": 40,
   "id": "20f58d3f",
   "metadata": {},
   "outputs": [
    {
     "name": "stdout",
     "output_type": "stream",
     "text": [
      "[1, 2, 3, 4, 7, 8]\n"
     ]
    }
   ],
   "source": [
    "\n",
    "l = [1, 2, 3, 4, 2, 7, 8, 8, 3]\n",
    "res = []\n",
    "for x in l:\n",
    "    if x not in res:\n",
    "        res.append(x)\n",
    "print(res)"
   ]
  },
  {
   "cell_type": "code",
   "execution_count": null,
   "id": "4e02228b",
   "metadata": {},
   "outputs": [],
   "source": []
  }
 ],
 "metadata": {
  "kernelspec": {
   "display_name": "Python 3 (ipykernel)",
   "language": "python",
   "name": "python3"
  },
  "language_info": {
   "codemirror_mode": {
    "name": "ipython",
    "version": 3
   },
   "file_extension": ".py",
   "mimetype": "text/x-python",
   "name": "python",
   "nbconvert_exporter": "python",
   "pygments_lexer": "ipython3",
   "version": "3.7.0"
  }
 },
 "nbformat": 4,
 "nbformat_minor": 5
}
